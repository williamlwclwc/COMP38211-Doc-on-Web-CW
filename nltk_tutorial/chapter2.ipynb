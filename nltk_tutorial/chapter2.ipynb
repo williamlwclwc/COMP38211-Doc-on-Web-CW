{
 "cells": [
  {
   "cell_type": "markdown",
   "metadata": {},
   "source": [
    "# Accessing Text Corpora and Lexical Resources\n",
    "## Accessing Text Corpora"
   ]
  },
  {
   "cell_type": "markdown",
   "metadata": {},
   "source": [
    "### 1.1 Gutenberg Corpus"
   ]
  },
  {
   "cell_type": "code",
   "execution_count": 1,
   "metadata": {},
   "outputs": [
    {
     "data": {
      "text/plain": [
       "['austen-emma.txt',\n",
       " 'austen-persuasion.txt',\n",
       " 'austen-sense.txt',\n",
       " 'bible-kjv.txt',\n",
       " 'blake-poems.txt',\n",
       " 'bryant-stories.txt',\n",
       " 'burgess-busterbrown.txt',\n",
       " 'carroll-alice.txt',\n",
       " 'chesterton-ball.txt',\n",
       " 'chesterton-brown.txt',\n",
       " 'chesterton-thursday.txt',\n",
       " 'edgeworth-parents.txt',\n",
       " 'melville-moby_dick.txt',\n",
       " 'milton-paradise.txt',\n",
       " 'shakespeare-caesar.txt',\n",
       " 'shakespeare-hamlet.txt',\n",
       " 'shakespeare-macbeth.txt',\n",
       " 'whitman-leaves.txt']"
      ]
     },
     "execution_count": 1,
     "metadata": {},
     "output_type": "execute_result"
    }
   ],
   "source": [
    "import nltk\n",
    "nltk.corpus.gutenberg.fileids()"
   ]
  },
  {
   "cell_type": "code",
   "execution_count": 3,
   "metadata": {},
   "outputs": [
    {
     "data": {
      "text/plain": [
       "192427"
      ]
     },
     "execution_count": 3,
     "metadata": {},
     "output_type": "execute_result"
    }
   ],
   "source": [
    "emma = nltk.corpus.gutenberg.words('austen-emma.txt')\n",
    "len(emma)"
   ]
  },
  {
   "cell_type": "code",
   "execution_count": 5,
   "metadata": {},
   "outputs": [
    {
     "data": {
      "text/plain": [
       "['austen-emma.txt',\n",
       " 'austen-persuasion.txt',\n",
       " 'austen-sense.txt',\n",
       " 'bible-kjv.txt',\n",
       " 'blake-poems.txt',\n",
       " 'bryant-stories.txt',\n",
       " 'burgess-busterbrown.txt',\n",
       " 'carroll-alice.txt',\n",
       " 'chesterton-ball.txt',\n",
       " 'chesterton-brown.txt',\n",
       " 'chesterton-thursday.txt',\n",
       " 'edgeworth-parents.txt',\n",
       " 'melville-moby_dick.txt',\n",
       " 'milton-paradise.txt',\n",
       " 'shakespeare-caesar.txt',\n",
       " 'shakespeare-hamlet.txt',\n",
       " 'shakespeare-macbeth.txt',\n",
       " 'whitman-leaves.txt']"
      ]
     },
     "execution_count": 5,
     "metadata": {},
     "output_type": "execute_result"
    }
   ],
   "source": [
    "from nltk.corpus import gutenberg\n",
    "emma = gutenberg.words('austen-emma.txt')\n",
    "gutenberg.fileids()"
   ]
  },
  {
   "cell_type": "code",
   "execution_count": 6,
   "metadata": {},
   "outputs": [
    {
     "data": {
      "text/plain": [
       "[['[', 'The', 'Tragedie', 'of', 'Macbeth', 'by', 'William', 'Shakespeare', '1603', ']'], ['Actus', 'Primus', '.'], ...]"
      ]
     },
     "execution_count": 6,
     "metadata": {},
     "output_type": "execute_result"
    }
   ],
   "source": [
    "# sents() function divides the text up into its sentences\n",
    "macbeth_sentences = gutenberg.sents('shakespeare-macbeth.txt')\n",
    "macbeth_sentences"
   ]
  },
  {
   "cell_type": "code",
   "execution_count": 7,
   "metadata": {},
   "outputs": [
    {
     "data": {
      "text/plain": [
       "[['Doubtfull',\n",
       "  'it',\n",
       "  'stood',\n",
       "  ',',\n",
       "  'As',\n",
       "  'two',\n",
       "  'spent',\n",
       "  'Swimmers',\n",
       "  ',',\n",
       "  'that',\n",
       "  'doe',\n",
       "  'cling',\n",
       "  'together',\n",
       "  ',',\n",
       "  'And',\n",
       "  'choake',\n",
       "  'their',\n",
       "  'Art',\n",
       "  ':',\n",
       "  'The',\n",
       "  'mercilesse',\n",
       "  'Macdonwald',\n",
       "  '(',\n",
       "  'Worthie',\n",
       "  'to',\n",
       "  'be',\n",
       "  'a',\n",
       "  'Rebell',\n",
       "  ',',\n",
       "  'for',\n",
       "  'to',\n",
       "  'that',\n",
       "  'The',\n",
       "  'multiplying',\n",
       "  'Villanies',\n",
       "  'of',\n",
       "  'Nature',\n",
       "  'Doe',\n",
       "  'swarme',\n",
       "  'vpon',\n",
       "  'him',\n",
       "  ')',\n",
       "  'from',\n",
       "  'the',\n",
       "  'Westerne',\n",
       "  'Isles',\n",
       "  'Of',\n",
       "  'Kernes',\n",
       "  'and',\n",
       "  'Gallowgrosses',\n",
       "  'is',\n",
       "  'supply',\n",
       "  \"'\",\n",
       "  'd',\n",
       "  ',',\n",
       "  'And',\n",
       "  'Fortune',\n",
       "  'on',\n",
       "  'his',\n",
       "  'damned',\n",
       "  'Quarry',\n",
       "  'smiling',\n",
       "  ',',\n",
       "  'Shew',\n",
       "  \"'\",\n",
       "  'd',\n",
       "  'like',\n",
       "  'a',\n",
       "  'Rebells',\n",
       "  'Whore',\n",
       "  ':',\n",
       "  'but',\n",
       "  'all',\n",
       "  \"'\",\n",
       "  's',\n",
       "  'too',\n",
       "  'weake',\n",
       "  ':',\n",
       "  'For',\n",
       "  'braue',\n",
       "  'Macbeth',\n",
       "  '(',\n",
       "  'well',\n",
       "  'hee',\n",
       "  'deserues',\n",
       "  'that',\n",
       "  'Name',\n",
       "  ')',\n",
       "  'Disdayning',\n",
       "  'Fortune',\n",
       "  ',',\n",
       "  'with',\n",
       "  'his',\n",
       "  'brandisht',\n",
       "  'Steele',\n",
       "  ',',\n",
       "  'Which',\n",
       "  'smoak',\n",
       "  \"'\",\n",
       "  'd',\n",
       "  'with',\n",
       "  'bloody',\n",
       "  'execution',\n",
       "  '(',\n",
       "  'Like',\n",
       "  'Valours',\n",
       "  'Minion',\n",
       "  ')',\n",
       "  'caru',\n",
       "  \"'\",\n",
       "  'd',\n",
       "  'out',\n",
       "  'his',\n",
       "  'passage',\n",
       "  ',',\n",
       "  'Till',\n",
       "  'hee',\n",
       "  'fac',\n",
       "  \"'\",\n",
       "  'd',\n",
       "  'the',\n",
       "  'Slaue',\n",
       "  ':',\n",
       "  'Which',\n",
       "  'neu',\n",
       "  \"'\",\n",
       "  'r',\n",
       "  'shooke',\n",
       "  'hands',\n",
       "  ',',\n",
       "  'nor',\n",
       "  'bad',\n",
       "  'farwell',\n",
       "  'to',\n",
       "  'him',\n",
       "  ',',\n",
       "  'Till',\n",
       "  'he',\n",
       "  'vnseam',\n",
       "  \"'\",\n",
       "  'd',\n",
       "  'him',\n",
       "  'from',\n",
       "  'the',\n",
       "  'Naue',\n",
       "  'toth',\n",
       "  \"'\",\n",
       "  'Chops',\n",
       "  ',',\n",
       "  'And',\n",
       "  'fix',\n",
       "  \"'\",\n",
       "  'd',\n",
       "  'his',\n",
       "  'Head',\n",
       "  'vpon',\n",
       "  'our',\n",
       "  'Battlements']]"
      ]
     },
     "execution_count": 7,
     "metadata": {},
     "output_type": "execute_result"
    }
   ],
   "source": [
    "longest_len = max(len(s) for s in macbeth_sentences)\n",
    "[s for s in macbeth_sentences if len(s) == longest_len]"
   ]
  },
  {
   "cell_type": "markdown",
   "metadata": {},
   "source": [
    "### 1.2 Web and Chat Text"
   ]
  },
  {
   "cell_type": "code",
   "execution_count": 10,
   "metadata": {},
   "outputs": [
    {
     "name": "stdout",
     "output_type": "stream",
     "text": [
      "firefox.txt Cookie Manager: \"Don't allow sites that set removed cookies to se ...\n",
      "grail.txt SCENE 1: [wind] [clop clop clop] \n",
      "KING ARTHUR: Whoa there!  [clop ...\n",
      "overheard.txt White guy: So, do you have any plans for this evening?\n",
      "Asian girl ...\n",
      "pirates.txt PIRATES OF THE CARRIBEAN: DEAD MAN'S CHEST, by Ted Elliott & Terr ...\n",
      "singles.txt 25 SEXY MALE, seeks attrac older single lady, for discreet encoun ...\n",
      "wine.txt Lovely delicate, fragrant Rhone wine. Polished leather and strawb ...\n"
     ]
    }
   ],
   "source": [
    "from nltk.corpus import webtext\n",
    "for fileid in webtext.fileids():\n",
    "    print(fileid, webtext.raw(fileid)[:65], '...')"
   ]
  },
  {
   "cell_type": "code",
   "execution_count": 11,
   "metadata": {},
   "outputs": [
    {
     "data": {
      "text/plain": [
       "['i',\n",
       " 'do',\n",
       " \"n't\",\n",
       " 'want',\n",
       " 'hot',\n",
       " 'pics',\n",
       " 'of',\n",
       " 'a',\n",
       " 'female',\n",
       " ',',\n",
       " 'I',\n",
       " 'can',\n",
       " 'look',\n",
       " 'in',\n",
       " 'a',\n",
       " 'mirror',\n",
       " '.']"
      ]
     },
     "execution_count": 11,
     "metadata": {},
     "output_type": "execute_result"
    }
   ],
   "source": [
    "from nltk.corpus import nps_chat\n",
    "chatroom = nps_chat.posts('10-19-20s_706posts.xml')\n",
    "chatroom[123]"
   ]
  },
  {
   "cell_type": "markdown",
   "metadata": {},
   "source": [
    "### 1.3 Brown Corpus"
   ]
  },
  {
   "cell_type": "code",
   "execution_count": 15,
   "metadata": {},
   "outputs": [
    {
     "name": "stdout",
     "output_type": "stream",
     "text": [
      "can: 94 could: 87 may: 93 might: 38 must: 53 will: 389 \n",
      "what: 186 when: 192 where: 89 who: 112 why: 42 "
     ]
    }
   ],
   "source": [
    "from nltk.corpus import brown\n",
    "news_text = brown.words(categories='news')\n",
    "fdist = nltk.FreqDist(w.lower() for w in news_text)\n",
    "modals = ['can', 'could', 'may', 'might', 'must', 'will']\n",
    "# \"end\" is needed to put the outputs on a single line\n",
    "for m in modals:\n",
    "    print(m + ':', fdist[m], end=' ')\n",
    "\n",
    "print()\n",
    "    \n",
    "fiction_text = brown.words(categories='fiction')\n",
    "fdist = nltk.FreqDist(w.lower() for w in fiction_text)\n",
    "wh_words = ['what', 'when', 'where', 'who', 'why']\n",
    "for wh in wh_words:\n",
    "    print(wh + ':', fdist[wh], end=' ')"
   ]
  },
  {
   "cell_type": "markdown",
   "metadata": {},
   "source": [
    "### 1.4 Reuters Corpus"
   ]
  },
  {
   "cell_type": "code",
   "execution_count": 17,
   "metadata": {},
   "outputs": [],
   "source": [
    "from nltk.corpus import reuters\n",
    "# print(reuters.fileids())\n",
    "# print(reuters.categories())\n",
    "# print(reuters.categories('training/9865'))\n",
    "# print(reuters.categories(['training/9865', 'training/9880']))\n",
    "# print(reuters.fileids('barley'))\n",
    "# print(reuters.fileids(['barley', 'corn']))"
   ]
  },
  {
   "cell_type": "markdown",
   "metadata": {},
   "source": [
    "### 1.5 Inaugural Address Corpus"
   ]
  },
  {
   "cell_type": "code",
   "execution_count": 18,
   "metadata": {},
   "outputs": [
    {
     "name": "stdout",
     "output_type": "stream",
     "text": [
      "['1789-Washington.txt', '1793-Washington.txt', '1797-Adams.txt', '1801-Jefferson.txt', '1805-Jefferson.txt', '1809-Madison.txt', '1813-Madison.txt', '1817-Monroe.txt', '1821-Monroe.txt', '1825-Adams.txt', '1829-Jackson.txt', '1833-Jackson.txt', '1837-VanBuren.txt', '1841-Harrison.txt', '1845-Polk.txt', '1849-Taylor.txt', '1853-Pierce.txt', '1857-Buchanan.txt', '1861-Lincoln.txt', '1865-Lincoln.txt', '1869-Grant.txt', '1873-Grant.txt', '1877-Hayes.txt', '1881-Garfield.txt', '1885-Cleveland.txt', '1889-Harrison.txt', '1893-Cleveland.txt', '1897-McKinley.txt', '1901-McKinley.txt', '1905-Roosevelt.txt', '1909-Taft.txt', '1913-Wilson.txt', '1917-Wilson.txt', '1921-Harding.txt', '1925-Coolidge.txt', '1929-Hoover.txt', '1933-Roosevelt.txt', '1937-Roosevelt.txt', '1941-Roosevelt.txt', '1945-Roosevelt.txt', '1949-Truman.txt', '1953-Eisenhower.txt', '1957-Eisenhower.txt', '1961-Kennedy.txt', '1965-Johnson.txt', '1969-Nixon.txt', '1973-Nixon.txt', '1977-Carter.txt', '1981-Reagan.txt', '1985-Reagan.txt', '1989-Bush.txt', '1993-Clinton.txt', '1997-Clinton.txt', '2001-Bush.txt', '2005-Bush.txt', '2009-Obama.txt', '2013-Obama.txt', '2017-Trump.txt']\n"
     ]
    },
    {
     "data": {
      "text/plain": [
       "['1789',\n",
       " '1793',\n",
       " '1797',\n",
       " '1801',\n",
       " '1805',\n",
       " '1809',\n",
       " '1813',\n",
       " '1817',\n",
       " '1821',\n",
       " '1825',\n",
       " '1829',\n",
       " '1833',\n",
       " '1837',\n",
       " '1841',\n",
       " '1845',\n",
       " '1849',\n",
       " '1853',\n",
       " '1857',\n",
       " '1861',\n",
       " '1865',\n",
       " '1869',\n",
       " '1873',\n",
       " '1877',\n",
       " '1881',\n",
       " '1885',\n",
       " '1889',\n",
       " '1893',\n",
       " '1897',\n",
       " '1901',\n",
       " '1905',\n",
       " '1909',\n",
       " '1913',\n",
       " '1917',\n",
       " '1921',\n",
       " '1925',\n",
       " '1929',\n",
       " '1933',\n",
       " '1937',\n",
       " '1941',\n",
       " '1945',\n",
       " '1949',\n",
       " '1953',\n",
       " '1957',\n",
       " '1961',\n",
       " '1965',\n",
       " '1969',\n",
       " '1973',\n",
       " '1977',\n",
       " '1981',\n",
       " '1985',\n",
       " '1989',\n",
       " '1993',\n",
       " '1997',\n",
       " '2001',\n",
       " '2005',\n",
       " '2009',\n",
       " '2013',\n",
       " '2017']"
      ]
     },
     "execution_count": 18,
     "metadata": {},
     "output_type": "execute_result"
    }
   ],
   "source": [
    "from nltk.corpus import inaugural\n",
    "print(inaugural.fileids())\n",
    "[fileid[:4] for fileid in inaugural.fileids()]"
   ]
  },
  {
   "cell_type": "code",
   "execution_count": 23,
   "metadata": {},
   "outputs": [
    {
     "data": {
      "image/png": "[encoded data removed]",
      "text/plain": [
       "<Figure size 432x288 with 1 Axes>"
      ]
     },
     "metadata": {
      "needs_background": "light"
     },
     "output_type": "display_data"
    }
   ],
   "source": [
    "cfd = nltk.ConditionalFreqDist(\n",
    "    (target, fileid[:4])\n",
    "    for fileid in inaugural.fileids()\n",
    "    for w in inaugural.words(fileid)\n",
    "    for target in ['america', 'citizen']\n",
    "    if w.lower().startswith(target)\n",
    ")\n",
    "cfd_plot = cfd.plot()"
   ]
  },
  {
   "cell_type": "markdown",
   "metadata": {},
   "source": [
    "## Conditional Frequency Distributions"
   ]
  },
  {
   "cell_type": "code",
   "execution_count": 25,
   "metadata": {},
   "outputs": [
    {
     "data": {
      "text/plain": [
       "[('news', 'The'), ('news', 'Fulton'), ('news', 'County'), ('news', 'Grand')]"
      ]
     },
     "execution_count": 25,
     "metadata": {},
     "output_type": "execute_result"
    }
   ],
   "source": [
    "genre_word = [(genre, word)\n",
    "              for genre in ['news', 'romance']\n",
    "              for word in brown.words(categories=genre)]\n",
    "genre_word[:4]"
   ]
  },
  {
   "cell_type": "code",
   "execution_count": 26,
   "metadata": {},
   "outputs": [
    {
     "data": {
      "text/plain": [
       "['news', 'romance']"
      ]
     },
     "execution_count": 26,
     "metadata": {},
     "output_type": "execute_result"
    }
   ],
   "source": [
    "cfd = nltk.ConditionalFreqDist(genre_word)\n",
    "cfd.conditions()"
   ]
  },
  {
   "cell_type": "code",
   "execution_count": 28,
   "metadata": {},
   "outputs": [
    {
     "name": "stdout",
     "output_type": "stream",
     "text": [
      "[(',', 3899), ('.', 3736), ('the', 2758), ('and', 1776), ('to', 1502), ('a', 1335), ('of', 1186), ('``', 1045), (\"''\", 1044), ('was', 993), ('I', 951), ('in', 875), ('he', 702), ('had', 692), ('?', 690), ('her', 651), ('that', 583), ('it', 573), ('his', 559), ('she', 496)]\n",
      "193\n"
     ]
    }
   ],
   "source": [
    "print(cfd['romance'].most_common(20))\n",
    "print(cfd['romance']['could'])"
   ]
  },
  {
   "cell_type": "code",
   "execution_count": 30,
   "metadata": {},
   "outputs": [
    {
     "name": "stdout",
     "output_type": "stream",
     "text": [
      "                  0    1    2    3    4    5    6    7    8    9 \n",
      "       English    0  185  525  883  997 1166 1283 1440 1558 1638 \n",
      "German_Deutsch    0  171  263  614  717  894 1013 1110 1213 1275 \n"
     ]
    }
   ],
   "source": [
    "from nltk.corpus import udhr\n",
    "languages = ['Chickasaw', 'English', 'German_Deutsch', 'Greenlandic_Inuktikut', 'Hungarian_Magyar', 'Ibibio_Efik']\n",
    "cfd = nltk.ConditionalFreqDist(\n",
    "    (lang, len(word))\n",
    "    for lang in languages\n",
    "    for word in udhr.words(lang + '-Latin1')\n",
    ")\n",
    "cfd.tabulate(conditions=['English', 'German_Deutsch'], samples=range(10), cumulative=True)"
   ]
  },
  {
   "cell_type": "code",
   "execution_count": 39,
   "metadata": {},
   "outputs": [
    {
     "name": "stdout",
     "output_type": "stream",
     "text": [
      "        Monday   Tuesday Wednesday  Thursday    Friday  Saturday    Sunday \n",
      "ca16         0         0         0         0         0         1         2 \n",
      "cp12         0         0         0         0         0         0         0 \n"
     ]
    }
   ],
   "source": [
    "from nltk.corpus import brown\n",
    "categories = ['ca16', 'cp12', 'ck04'] # news, romance, fiction\n",
    "days = ['Monday', 'Tuesday', 'Wednesday', 'Thursday', 'Friday', 'Saturday', 'Sunday']\n",
    "cfd = nltk.ConditionalFreqDist(\n",
    "    (category, word)\n",
    "    for category in categories\n",
    "    for word in brown.words(category) \n",
    ")\n",
    "cfd.tabulate(conditions=['ca16', 'cp12'], samples=days, cumulative=True)"
   ]
  },
  {
   "cell_type": "code",
   "execution_count": 42,
   "metadata": {},
   "outputs": [
    {
     "name": "stdout",
     "output_type": "stream",
     "text": [
      "living creature that he said , and the land of the land of the land "
     ]
    }
   ],
   "source": [
    "def generate_model(cfdist, word, num=15):\n",
    "    for i in range(num):\n",
    "        print(word, end=' ')\n",
    "        word = cfdist[word].max()\n",
    "\n",
    "        \n",
    "text = nltk.corpus.genesis.words('english-kjv.txt')\n",
    "bigrams = nltk.bigrams(text)\n",
    "cfd = nltk.ConditionalFreqDist(bigrams)\n",
    "generate_model(cfd, 'living')"
   ]
  },
  {
   "cell_type": "markdown",
   "metadata": {},
   "source": [
    "## Lexical Resources"
   ]
  },
  {
   "cell_type": "code",
   "execution_count": 46,
   "metadata": {},
   "outputs": [
    {
     "name": "stdout",
     "output_type": "stream",
     "text": [
      "['abbeyland', 'abhorred', 'abilities', 'abounded', 'abridgement', 'abused', 'abuses', 'accents', 'accepting', 'accommodations', 'accompanied', 'accounted', 'accounts', 'accustomary', 'aches', 'acknowledging', 'acknowledgment', 'acknowledgments', 'acquaintances', 'acquiesced', 'acquitted', 'acquitting', 'acted', 'actions', 'adapted', 'adding', 'additions', 'addressed', 'addresses', 'addressing', 'adhering', 'adieus', 'adjusting', 'administering', 'admirers', 'admires', 'admitting', 'adorned', 'advances', 'advantages', 'affairs', 'affections', 'affects', 'affixed', 'afflictions', 'afforded', 'affording', 'ages', 'agitated', 'agonies', 'ailments', 'aimed', 'alarms', 'alienated', 'alighted', 'alleged', 'allenham', 'allowances', 'allowed', 'allowing', 'alluded', 'alterations', 'altered', 'altering', 'amended', 'amounted', 'amusements', 'ankles', 'annamaria', 'annexed', 'announced', 'announcing', 'annuities', 'annum', 'answered', 'answering', 'answers', 'anticipated', 'anticipating', 'anticipations', 'anymore', 'apartments', 'apologies', 'apologising', 'apologized', 'appearances', 'appeared', 'appearing', 'appeased', 'appetites', 'applauded', 'applying', 'appointed', 'apprehended', 'apprehensions', 'approached', 'approved', 'arbour', 'ardour', 'arguments', 'arranged', 'arrangements', 'arranging', 'arrived', 'arrives', 'arriving', 'ascended', 'ascertained', 'asked', 'asking', 'assembled', 'assemblies', 'asserted', 'assertions', 'assiduities', 'assisted', 'assisting', 'associating', 'assurances', 'astonished', 'atoned', 'atoning', 'attaching', 'attachments', 'attacked', 'attacks', 'attained', 'attempted', 'attempting', 'attempts', 'attendants', 'attended', 'attending', 'attentions', 'attracted', 'attractions', 'attributed', 'attributing', 'auditors', 'augmenting', 'austen', 'authorised', 'authors', 'availed', 'avignon', 'avoided', 'avoiding', 'awaited', 'awakened', 'awaking', 'bags', 'balls', 'banished', 'barouches', 'bathed', 'bears', 'beasts', 'beauties', 'became', 'bedrooms', 'beds', 'befallen', 'befalls', 'befell', 'began', 'begged', 'begins', 'behaved', 'beings', 'believed', 'believes', 'belonged', 'belongs', 'benefited', 'bequeathed', 'berkeley', 'bestowed', 'betrayed', 'betraying', 'biased', 'blackest', 'blameable', 'blessings', 'blights', 'blossoms', 'blundered', 'blushed', 'blushes', 'bolder', 'bones', 'bonomi', 'books', 'booksellers', 'borrowed', 'bottoms', 'boys', 'breakfasting', 'bribing', 'brightened', 'brighter', 'bringing', 'brings', 'broader', 'brothers', 'bruised', 'buildings', 'bursts', 'buying', 'called', 'calls', 'calming', 'candles', 'candour', 'canvassing', 'cards', 'cares', 'caresses', 'careys', 'carriages', 'carries', 'cases', 'casts', 'cats', 'caused', 'ceased', 'ceasing', 'censured', 'centre', 'certainties', 'chagrined', 'chairs', 'chambers', 'chanced', 'changed', 'changes', 'changing', 'characters', 'charged', 'charmed', 'charms', 'cheated', 'checking', 'cheeks', 'cheerfuller', 'cherished', 'cherries', 'children', 'choked', 'chuse', 'chusing', 'circles', 'circumstances', 'civilities', 'claimed', 'claiming', 'claims', 'clarke', 'cleared', 'cleveland', 'clogged', 'closing', 'clouds', 'coats', 'collecting', 'coloured', 'colouring', 'combe', 'comforted', 'comforts', 'comings', 'commanded', 'commands', 'commended', 'comments', 'commissioned', 'commonest', 'communicated', 'companions', 'compared', 'compares', 'comparisons', 'complained', 'complaining', 'complaints', 'completed', 'compliments', 'comprehended', 'concealing', 'concerns', 'concessions', 'concluded', 'conclusions', 'conditions', 'conducted', 'confessed', 'confidante', 'conforming', 'congratulated', 'congratulating', 'congratulations', 'conjectured', 'conjectures', 'conjecturing', 'connections', 'conquests', 'consented', 'consequences', 'considerations', 'considers', 'consisted', 'consists', 'consoled', 'conspired', 'constantia', 'consulted', 'contained', 'containing', 'contend', 'contenting', 'continuing', 'contradicted', 'contrasted', 'contributed', 'contributing', 'contrived', 'contrives', 'contriving', 'controlled', 'conveniences', 'conversations', 'conversed', 'conversing', 'conveyed', 'conveying', 'copying', 'cordials', 'cottages', 'counsellor', 'counteracted', 'couples', 'courted', 'courting', 'courtland', 'cousins', 'cowper', 'cows', 'coxcombs', 'cramps', 'created', 'creating', 'creatures', 'cries', 'crimsoned', 'curtsying', 'cutlets', 'danced', 'dances', 'dared', 'darker', 'dartford', 'dashwood', 'dashwoods', 'daughters', 'davies', 'dawdled', 'dawlish', 'dawned', 'dearer', 'dearest', 'debated', 'debts', 'deceived', 'deciding', 'decisions', 'declares', 'declaring', 'declining', 'deemed', 'deeper', 'deepest', 'defects', 'defended', 'deficiencies', 'degrees', 'delaford', 'delayed', 'delays', 'deliberating', 'delicacies', 'delighful', 'delineated', 'delivered', 'demanded', 'demands', 'demonstrations', 'demur', 'denied', 'dennison', 'denoted', 'denoting', 'departing', 'depended', 'depends', 'deprived', 'described', 'describing', 'deserts', 'deserves', 'designs', 'desiring', 'despatch', 'despatching', 'despised', 'despising', 'destroyed', 'destroys', 'detaining', 'detected', 'detecting', 'determining', 'deterred', 'detested', 'devolved', 'died', 'dies', 'differed', 'differing', 'difficulties', 'dimensions', 'diminished', 'dined', 'dinners', 'directing', 'directions', 'disagreements', 'disappeared', 'disappointments', 'disapproved', 'disapproves', 'disapproving', 'discarded', 'discharged', 'disclaiming', 'disclosing', 'discontents', 'discovering', 'discussions', 'disgraced', 'disinherited', 'disliked', 'dismissed', 'dismounted', 'dispatched', 'dispatches', 'dispersing', 'disposing', 'disputes', 'disqualifications', 'disregarded', 'dissembling', 'dissented', 'distresses', 'distrusts', 'diverted', 'doatingly', 'donavan', 'doomed', 'dooming', 'doors', 'dorsetshire', 'doubted', 'doubts', 'douceur', 'downs', 'dr', 'drains', 'drawings', 'draws', 'dreaded', 'dreading', 'dreaming', 'dresses', 'drives', 'dropped', 'drops', 'drury', 'duets', 'duties', 'earlier', 'earliest', 'earned', 'ears', 'echoed', 'editions', 'edtions', 'effected', 'effecting', 'effusions', 'ellison', 'ellisons', 'eloping', 'eluded', 'embellishments', 'embraced', 'embraces', 'employments', 'enabled', 'enamoured', 'encouraged', 'encouragements', 'encroachments', 'encumbered', 'endeavoring', 'endeavors', 'endeavour', 'endeavoured', 'endeavouring', 'endeavours', 'endowed', 'ends', 'endured', 'enfeebled', 'enforcing', 'engagements', 'england', 'enjoyed', 'enjoyments', 'enquired', 'enquiries', 'enquiring', 'ensued', 'ensured', 'entered', 'entertained', 'entitled', 'entreated', 'entreaties', 'entrusted', 'equalled', 'equals', 'erred', 'errors', 'escaped', 'esq', 'establishing', 'esteemed', 'esteeming', 'esteems', 'estimating', 'estranged', 'evenings', 'events', 'evils', 'examined', 'exceeded', 'excellencies', 'exchanged', 'exclaimed', 'exclamations', 'excused', 'excuses', 'exercised', 'exercising', 'exerted', 'exertions', 'exeter', 'exhilarated', 'existed', 'expectations', 'expected', 'expecting', 'expects', 'expenses', 'experiencing', 'explained', 'explanations', 'expressing', 'expressions', 'extolling', 'extorted', 'extorting', 'extremest', 'eyeing', 'eyes', 'faces', 'facts', 'failed', 'falls', 'familiarized', 'families', 'fancying', 'fates', 'fatigued', 'fatigues', 'faults', 'favour', 'favourable', 'favourite', 'favourites', 'fearing', 'fears', 'features', 'feelings', 'feels', 'feet', 'felicitations', 'females', 'ferrars', 'fetches', 'fettered', 'finds', 'finest', 'fingers', 'flattered', 'flatteries', 'flowed', 'fluctuating', 'flushed', 'foibles', 'followed', 'follows', 'fond', 'footsteps', 'forebodings', 'foreplanned', 'foresaw', 'foreseeing', 'foreseen', 'forfeited', 'forfeiting', 'forgave', 'forgiven', 'forms', 'forsaking', 'fortunes', 'forwarded', 'foundations', 'founded', 'fowls', 'friendliest', 'friends', 'frightens', 'froid', 'frosts', 'fulfil', 'fulfilled', 'fullest', 'gained', 'gales', 'gardens', 'garrets', 'gates', 'gathered', 'generations', 'gentlemen', 'gigs', 'gilberts', 'girls', 'gives', 'glances', 'gloried', 'gloves', 'godby', 'goings', 'goodby', 'governed', 'gowns', 'graces', 'grandmothers', 'granted', 'greatest', 'grieves', 'grows', 'guardians', 'guessed', 'guests', 'guided', 'guineas', 'habits', 'hallooing', 'hands', 'handsomer', 'handsomest', 'hang', 'hanover', 'happened', 'happens', 'hardened', 'hardships', 'harley', 'has', 'hastened', 'hastening', 'hated', 'hates', 'hating', 'having', 'hazarded', 'hazarding', 'heads', 'heard', 'hears', 'heightened', 'heightening', 'heights', 'heirs', 'held', 'hens', 'henshawe', 'hesitated', 'hiding', 'hills', 'hinted', 'hints', 'hoarded', 'holborn', 'holburn', 'holds', 'holidays', 'homes', 'honeysuckles', 'honiton', 'honour', 'honourable', 'honourably', 'honoured', 'honours', 'hopes', 'hoping', 'horrors', 'horses', 'hours', 'houses', 'howsever', 'humbled', 'humiliations', 'humored', 'humoured', 'humouring', 'hunted', 'hunters', 'hunts', 'hurrying', 'husbands', 'huswifes', 'ideas', 'idled', 'idolized', 'ii', 'imaginations', 'imagined', 'imagining', 'imbibed', 'immoveable', 'imparted', 'imperfections', 'implied', 'implies', 'impoverished', 'impoverishing', 'improved', 'improvements', 'imputed', 'inclinations', 'inclined', 'inclosing', 'including', 'incommoded', 'inconveniences', 'increased', 'incurred', 'incurring', 'indulged', 'infants', 'inflicted', 'inflicting', 'influenced', 'inforce', 'inforced', 'informing', 'inhabitants', 'inhabiting', 'inheriting', 'injuries', 'inquired', 'inquiries', 'insinuations', 'insisted', 'installed', 'instigated', 'instructions', 'insulted', 'intends', 'intentions', 'intents', 'interests', 'interposed', 'interspersed', 'intervals', 'interviews', 'intimated', 'introduced', 'introducing', 'intruded', 'invented', 'inventing', 'invitations', 'invited', 'irritated', 'irritates', 'issued', 'jealousies', 'jenning', 'jennings', 'jewels', 'jilting', 'joined', 'joked', 'jokes', 'joking', 'joys', 'judged', 'judging', 'judgments', 'jumbled', 'justified', 'keeps', 'keys', 'kicked', 'kinder', 'kindest', 'kingham', 'kissed', 'kisses', 'knees', 'knives', 'knows', 'laboured', 'lamentations', 'lamps', 'lanes', 'languages', 'larger', 'largest', 'lasted', 'laughed', 'laughs', 'leagued', 'legacies', 'lengthened', 'lengths', 'lessened', 'lessening', 'letters', 'letting', 'lies', 'lifted', 'lightened', 'liked', 'likes', 'limbs', 'limits', 'lines', 'lingered', 'lingering', 'lips', 'listened', 'lives', 'livings', 'll', 'lodges', 'loitered', 'lombardy', 'london', 'longed', 'longest', 'longstaple', 'looked', 'looks', 'loved', 'lovers', 'loves', 'lowered', 'lurking', 'magna', 'maids', 'maintained', 'makes', 'mama', 'managed', 'marlborough', 'marriages', 'marries', 'matters', 'maxims', 'meadows', 'meals', 'means', 'meantime', 'measures', 'medicines', 'meditated', 'meditations', 'meetings', 'mentioned', 'mentioning', 'merest', 'merits', 'merrier', 'messages', 'middleton', 'middletons', 'militated', 'minds', 'minutes', 'misapplied', 'misinformed', 'missed', 'misses', 'mistakes', 'mixing', 'modestest', 'mohrs', 'moments', 'months', 'mosquitoes', 'mothers', 'motives', 'moved', 'murmurings', 'muttered', 'nabobs', 'named', 'names', 'natured', 'nearer', 'needed', 'neglected', 'neighbour', 'neighbourhood', 'neighbouring', 'neighbourly', 'neighbours', 'nerves', 'nests', 'nettles', 'newer', 'newspapers', 'nicest', 'nieces', 'nipped', 'nodded', 'nods', 'noisier', 'notes', 'noticed', 'noticing', 'notions', 'nt', 'nurses', 'obeyed', 'objected', 'objections', 'objects', 'obligations', 'observations', 'observed', 'obstacles', 'obstructed', 'obtained', 'obtaining', 'obviated', 'obviating', 'occasioned', 'occasions', 'occupations', 'occupied', 'occurred', 'oddest', 'offence', 'offences', 'offending', 'offered', 'offices', 'oftener', 'oftenest', 'oldest', 'olives', 'omitted', 'ones', 'opened', 'opinions', 'opportunities', 'ordained', 'orders', 'originated', 'ornamented', 'ornaments', 'others', 'outdone', 'outgrown', 'outlived', 'outraged', 'outstaid', 'outstretched', 'outstripped', 'outweighs', 'overcame', 'overcoming', 'overheard', 'overlooked', 'overpowered', 'overspreading', 'overstrained', 'owed', 'owned', 'owners', 'owning', 'paces', 'pacified', 'packages', 'packed', 'pages', 'paid', 'pains', 'palanquins', 'palmers', 'pangs', 'papers', 'parcels', 'parents', 'parlors', 'parlour', 'parrys', 'particulars', 'parties', 'parting', 'partners', 'parts', 'passages', 'passed', 'passions', 'patches', 'patronised', 'patterns', 'paused', 'pausing', 'pearls', 'perceived', 'perfections', 'performances', 'performed', 'performers', 'performing', 'permitting', 'persecutions', 'persevered', 'persisted', 'persons', 'persuading', 'pictures', 'pieces', 'pimples', 'piqued', 'pitched', 'pitied', 'placed', 'placing', 'plaguing', 'planning', 'plans', 'plantations', 'plants', 'played', 'playfellows', 'playing', 'playthings', 'pleasanter', 'pleasantest', 'pleased', 'pleasures', 'plums', 'pointers', 'points', 'ponds', 'poplars', 'popt', 'possesses', 'possessions', 'postponing', 'posts', 'pounds', 'poured', 'powers', 'practices', 'practise', 'practised', 'praised', 'praises', 'prayers', 'pre', 'preceded', 'preferring', 'prejudices', 'premeditated', 'premises', 'prenticed', 'preparations', 'preparing', 'prescribed', 'prescriptions', 'presented', 'presenting', 'presents', 'preserved', 'presided', 'pressed', 'presumed', 'pretence', 'pretends', 'pretensions', 'prettier', 'prettiest', 'prevailed', 'prevailing', 'prevented', 'preyed', 'principles', 'probabilities', 'proceeded', 'proclaimed', 'procured', 'procuring', 'producing', 'professions', 'profited', 'prohibited', 'projects', 'promised', 'promises', 'promontories', 'promoted', 'promoting', 'prompted', 'pronouncing', 'proofs', 'propensities', 'prophecies', 'proposals', 'proposed', 'prospects', 'protestations', 'protested', 'proud', 'provisions', 'provoked', 'publishing', 'pulled', 'puppies', 'purchases', 'purposes', 'pursued', 'pursuing', 'pursuits', 'puts', 'putting', 'qualifications', 'quarrelled', 'quarrelling', 'questions', 'quickened', 'quicker', 'quickest', 'quieted', 'quitting', 'rained', 'raises', 'rambles', 'raptures', 'reached', 'reaped', 'reasonings', 'reasons', 'recalled', 'receiving', 'reckoned', 'reckons', 'reclining', 'recognised', 'recollecting', 'recommended', 'recommending', 'reconciled', 'recovered', 'recovering', 'recreating', 'recurred', 'referred', 'referring', 'refinements', 'reflections', 'refreshed', 'refreshments', 'refused', 'regarded', 'regards', 'regrets', 'regretted', 'regretting', 'rejected', 'rejoiced', 'relating', 'relations', 'relatives', 'released', 'relics', 'relied', 'relinquished', 'relying', 'remained', 'remaining', 'remarks', 'remedies', 'remembered', 'remembering', 'remembers', 'remembrances', 'reminded', 'reminding', 'reminds', 'removes', 'rendered', 'renewed', 'renewing', 'renounced', 'repaid', 'repaired', 'repeating', 'repining', 'replied', 'replying', 'reports', 'representations', 'represented', 'representing', 'reproached', 'reproaches', 'reproaching', 'reproved', 'reproving', 'repulsed', 'requested', 'requesting', 'required', 'requires', 'requiring', 'rescued', 'reseated', 'resembled', 'resembling', 'resented', 'resettled', 'resided', 'residing', 'resisted', 'resists', 'resolving', 'resorted', 'resources', 'respected', 'respects', 'rested', 'restored', 'restoring', 'restraints', 'resumed', 'retailed', 'retained', 'retreated', 'retrenched', 'returning', 'reverted', 'revived', 'rewarded', 'rheumatisms', 'ribbons', 'richardson', 'richardsons', 'richer', 'rings', 'rises', 'risking', 'rivals', 'roads', 'roared', 'robbed', 'rocks', 'rooms', 'roused', 'ruins', 'rumour', 'sackville', 'sacrificed', 'sakes', 'salts', 'sandersons', 'sashes', 'sauntered', 'saves', 'savings', 'says', 'scenes', 'schemes', 'scolded', 'scorning', 'scotland', 'scrawls', 'screamed', 'screams', 'screens', 'scrupled', 'scruples', 'scrupling', 'scrutinies', 'searched', 'seasons', 'seats', 'seconded', 'seconds', 'secrets', 'secured', 'secures', 'securing', 'seduced', 'seemed', 'seems', 'seized', 'sellers', 'sends', 'sensations', 'senses', 'sentences', 'sentiments', 'separated', 'separations', 'servants', 'served', 'services', 'shades', 'shakespeare', 'shared', 'sharing', 'sharpe', 'shew', 'shewed', 'shewing', 'shewn', 'shews', 'shillings', 'shocked', 'shoes', 'shops', 'shoulders', 'showed', 'showers', 'shrubberies', 'shrugging', 'shuddering', 'shutters', 'sighed', 'signs', 'silencing', 'silks', 'simpered', 'simpering', 'simplest', 'simpson', 'sisters', 'situations', 'slightest', 'smallest', 'smiled', 'smiles', 'smirked', 'smokes', 'sobbed', 'sobered', 'sobs', 'softened', 'solicitations', 'somersetshire', 'songs', 'soothings', 'sorrows', 'souls', 'sounds', 'sources', 'spared', 'speaks', 'spends', 'spirits', 'sportsmen', 'sprained', 'spraining', 'spunging', 'spurned', 'stairs', 'stammered', 'stanhill', 'stared', 'stares', 'started', 'startled', 'stating', 'staying', 'steele', 'steeles', 'steepest', 'steps', 'stimulated', 'stirred', 'stockings', 'stopt', 'strains', 'strangers', 'streamed', 'strengthened', 'stretched', 'strictest', 'strikes', 'stronger', 'strongest', 'struggled', 'studies', 'stupified', 'styled', 'subjects', 'submitted', 'submitting', 'subsisted', 'subsisting', 'succeeded', 'succour', 'suffered', 'sufferings', 'suffers', 'suggested', 'suited', 'summits', 'summoned', 'superannuated', 'supplanted', 'supplied', 'supplying', 'supported', 'supports', 'surfaces', 'surpassed', 'surprised', 'survived', 'suspecting', 'suspects', 'suspicions', 'swallowed', 'sweetest', 'sweetmeats', 'syllables', 'sympathised', 'symptoms', 'systems', 'takes', 'talents', 'talked', 'talks', 'tallest', 'tastes', 'taverns', 'tears', 'teazed', 'teazing', 'tells', 'tempers', 'tempted', 'tended', 'tenderest', 'terminated', 'terms', 'thanked', 'things', 'thinks', 'thirds', 'thistles', 'thomson', 'thorns', 'thoughts', 'threatened', 'threats', 'thunderbolts', 'tis', 'tithes', 'traced', 'traded', 'trades', 'traits', 'transacted', 'transgressed', 'travellers', 'travelling', 'treasured', 'treated', 'trees', 'trembled', 'tremour', 'trials', 'tricked', 'tricks', 'tries', 'trifled', 'troubles', 'truest', 'trusted', 'truths', 'twould', 'undergone', 'undervalued', 'unfavourable', 'unites', 'unlover', 'unpleasantest', 'urged', 'ushered', 'using', 'valleys', 'variations', 'varying', 've', 'ventured', 'venturing', 'viewed', 'viewing', 'views', 'vigour', 'villages', 'violins', 'virtues', 'visited', 'visitors', 'visits', 'voices', 'vouchsafed', 'waistcoats', 'waited', 'walked', 'walks', 'walls', 'wandered', 'wanted', 'wants', 'warmest', 'weakened', 'weaknesses', 'weddings', 'weeks', 'welcomed', 'westminster', 'westons', 'wettest', 'weymouth', 'whiled', 'whims', 'whitakers', 'whiter', 'whitwell', 'wildest', 'williams', 'willoughby', 'willoughbys', 'windows', 'winks', 'wiping', 'wisest', 'wishes', 'withdrew', 'witnessed', 'witnesses', 'witnessing', 'witticisms', 'wittiest', 'wives', 'women', 'wondered', 'woods', 'words', 'workmen', 'worlds', 'wrapt', 'writes', 'yards', 'years', 'yielded', 'youngest']\n",
      "\n"
     ]
    },
    {
     "name": "stdout",
     "output_type": "stream",
     "text": [
      "['aaaaaaaaaaaaaaaaa', 'aaahhhh', 'abortions', 'abou', 'abourted', 'abs', 'ack', 'acros', 'actualy', 'adams', 'adds', 'adduser', 'adjusts', 'adoted', 'adreniline', 'ads', 'adults', 'afe', 'affairs', 'affari', 'affects', 'afk', 'agaibn', 'ages', 'aggravated', 'agurlwithbigguns', 'ahah', 'ahahah', 'ahahh', 'ahahha', 'ahh', 'ahhah', 'ahhahahaha', 'ahhh', 'ahhhh', 'ahhhhhh', 'ahhhhhhhhhhhhhh', 'aiiiiiiiiiiiiiiiiiiiiiiii', 'aiken', 'aime', 'akdt', 'akon', 'akron', 'akst', 'aligator', 'allergies', 'allo', 'allowed', 'aloha', 'alohaaa', 'alohas', 'alot', 'alotta', 'alternatives', 'alterz', 'alwys', 'alzheimers', 'amazingness', 'americans', 'anithing', 'ans', 'answering', 'answers', 'antidepressants', 'anygirl', 'anymore', 'anythin', 'anytime', 'anyyyyyyyyyyyyyyyyy', 'aok', 'apoligize', 'appearently', 'appears', 'applaudes', 'appleton', 'appologise', 'appologize', 'aqwesome', 'arggghhh', 'argh', 'armtnpeat', 'arrested', 'arrived', 'arround', 'asked', 'askin', 'asking', 'asks', 'asl', 'asnwer', 'asses', 'asshole', 'assholes', 'asss', 'assumes', 'aterry', 'atl', 'attempted', 'attracted', 'aussies', 'awesomee', 'awesomes', 'awrighty', 'awsome', 'aww', 'awww', 'awwww', 'awwwwww', 'awwwwwww', 'awwwwwwwwww', 'aynawy', 'az', 'azerbaijan', 'baaaaalllllllliiiiiiinnnnnnnnnnn', 'babay', 'babblein', 'babes', 'babies', 'babiess', 'babycakeses', 'bachelorette', 'backatchya', 'backfrontsidewaysandallaroundtheworld', 'backroom', 'bacl', 'bagels', 'bahahahaa', 'bak', 'balad', 'balck', 'ballin', 'balls', 'bandito', 'bandsaw', 'banjoes', 'banned', 'baord', 'barbie', 'barbieee', 'bares', 'barfights', 'barks', 'bbbbbyyyyyyyeeeeeeeee', 'bbiam', 'bbl', 'bbs', 'bc', 'beachhhh', 'beams', 'beans', 'bears', 'beatles', 'beats', 'beattles', 'beckley', 'beeeeehave', 'beeehave', 'bein', 'beleive', 'belongings', 'benz', 'beuty', 'bf', 'bi', 'biatch', 'biebsa', 'bied', 'bigest', 'biiiatch', 'biiiiiitch', 'bikes', 'bio', 'biographys', 'birdgang', 'birfday', 'bishes', 'bitches', 'bitdh', 'bites', 'biyatch', 'bj', 'blankie', 'blazed', 'blech', 'blessings', 'blew', 'bloe', 'blondes', 'bloooooooood', 'bloooooooooood', 'bloooooooooooood', 'blowjob', 'bodies', 'boed', 'boght', 'boi', 'boing', 'boinked', 'bones', 'boning', 'booboo', 'boobs', 'books', 'boooooooooooglyyyyyy', 'bootay', 'booyah', 'borat', 'bored', 'bothering', 'bounced', 'bouncers', 'bouts', 'boyfriend', 'boys', 'boyz', 'brady', 'brakes', 'brb', 'brbbb', 'breaks', 'brightened', 'brings', 'bro', 'brooklyn', 'brothers', 'brrrrrrr', 'bruises', 'brwn', 'btw', 'bucks', 'buddyyyyyy', 'bugs', 'buh', 'builds', 'bulls', 'bumber', 'bumped', 'burger', 'burito', 'burns', 'burpin', 'burps', 'burried', 'burryed', 'buses', 'buying', 'bwahahahahahahahahahaha', 'bwhaha', 'byb', 'byeee', 'byeeee', 'byeeeeeeee', 'byeeeeeeeeeeeee', 'byes', 'caan', 'caint', 'caiuse', 'cakes', 'cali', 'called', 'callifornia', 'calls', 'cams', 'canadaian', 'canadain', 'canehda', 'caps', 'cardinals', 'cardnials', 'cards', 'cares', 'cars', 'casts', 'catches', 'categories', 'catterick', 'caused', 'cdt', 'cepn', 'cereals', 'chamillionaire', 'changed', 'changing', 'chanop', 'chanowner', 'chathide', 'chatland', 'chatr', 'chatroom', 'chats', 'chatt', 'chatted', 'chattin', 'chcken', 'cheaking', 'checkin', 'checking', 'checks', 'cheeeez', 'cheers', 'cheking', 'chews', 'chica', 'chickens', 'chics', 'chik', 'children', 'chineese', 'chingy', 'choc', 'chocha', 'chococake', 'choices', 'chokes', 'chops', 'chp', 'chuckles', 'chunks', 'churches', 'ciao', 'ciara', 'cigars', 'ciggareets', 'ck', 'claws', 'cleared', 'cleveland', 'clicked', 'clients', 'clinicals', 'clooney', 'closes', 'clubs', 'cmon', 'cnnecticut', 'co', 'coconuts', 'coem', 'coffe', 'coggieeee', 'com', 'combo', 'comenting', 'comin', 'commanded', 'comments', 'comon', 'comp', 'complains', 'completly', 'compliments', 'compoud', 'comprende', 'comps', 'computers', 'computor', 'concernin', 'confessed', 'confusing', 'confusting', 'congrat', 'congrats', 'connecticutt', 'constituents', 'contast', 'contemplating', 'controll', 'controllers', 'controllin', 'controlling', 'convo', 'conway', 'cookie', 'cookies', 'coolcat', 'coonarsee', 'cooooooooookiiiiiiiiiiiieeeeeeeeeeee', 'copone', 'cops', 'costumes', 'cottons', 'coudl', 'coughed', 'coughs', 'cougs', 'couldnt', 'counts', 'coupons', 'courst', 'covers', 'coworkers', 'cpr', 'cramps', 'crashed', 'creme', 'cries', 'cripos', 'crosses', 'csi', 'cst', 'ct', 'ctrl', 'cuddlicious', 'cuffed', 'cums', 'cuppers', 'curls', 'currious', 'cus', 'cusion', 'cutes', 'cuz', 'cya', 'cyas', 'cyber', 'czeching', 'daamn', 'dahlin', 'damnit', 'dances', 'danes', 'dangit', 'darlin', 'darlings', 'darwin', 'dat', 'dated', 'daughters', 'daveeee', 'davis', 'dawg', 'dawnstar', 'dayum', 'dd', 'deals', 'deaths', 'decades', 'deceived', 'deciding', 'declaw', 'declawed', 'deeper', 'definately', 'definitley', 'defragging', 'defrags', 'degrees', 'deleware', 'delivers', 'dem', 'democrats', 'denver', 'denzel', 'deop', 'depeche', 'depends', 'descriminate', 'despie', 'despises', 'detroit', 'didnts', 'died', 'dies', 'diggin', 'dik', 'dipset', 'dirrrrty', 'diseast', 'disocvered', 'dissing', 'divorced', 'dj', 'dl', 'dman', 'docs', 'doggies', 'doin', 'dojn', 'dokey', 'dokken', 'dollars', 'dolls', 'donno', 'dontcha', 'donuts', 'dood', 'doody', 'doors', 'dork', 'dotn', 'doublewide', 'douchebag', 'doupt', 'downloaded', 'downloading', 'downnnnnn', 'downs', 'dr', 'drags', 'dratts', 'dreaded', 'dreammm', 'dreams', 'drinks', 'driveby', 'drivers', 'drivin', 'drools', 'dropped', 'drops', 'drugs', 'dryer', 'dsklgjsdk', 'du', 'duh', 'dumbass', 'dummmm', 'dunkin', 'dunno', 'dvd', 'dya', 'dyed', 'dyslexic', 'earplugs', 'earrings', 'ears', 'eay', 'ebay', 'edgewood', 'edmonton', 'eeeeeeeeewwwwwwww', 'eeeek', 'eeek', 'eeekk', 'eeewww', 'eeewwwwww', 'eeww', 'eggs', 'ehh', 'eitther', 'elbows', 'elected', 'elections', 'elev', 'ello', 'elo', 'email', 'eng', 'england', 'enjoys', 'enters', 'entitled', 'enuf', 'enuff', 'ep', 'erics', 'erm', 'eroticaust', 'errrrr', 'escaped', 'est', 'este', 'estefan', 'estra', 'eticket', 'euphamisms', 'evah', 'everbody', 'everone', 'evertonr', 'everytime', 'ewedding', 'eww', 'ewww', 'ewwww', 'ewwwww', 'ewwwwww', 'ewwwwwww', 'exchanged', 'exchanging', 'excitin', 'excuuuuuuse', 'experimenting', 'extensions', 'extras', 'exwife', 'eyes', 'facilitated', 'fails', 'fairbanks', 'fallout', 'falls', 'fallz', 'farms', 'fart', 'farting', 'farts', 'fav', 'fawk', 'fawked', 'fawker', 'fck', 'febe', 'feeds', 'feelings', 'feels', 'feet', 'fella', 'fellows', 'females', 'femine', 'fer', 'fergalicious', 'fergie', 'fetterline', 'fettish', 'ff', 'fiddles', 'files', 'fillin', 'finds', 'finers', 'fingers', 'firs', 'fishercat', 'fishercats', 'fishers', 'fishin', 'fits', 'fkajslf', 'fl', 'flames', 'flashed', 'flattered', 'flatts', 'flavors', 'flippin', 'flirts', 'fliuds', 'flops', 'fluids', 'fock', 'foley', 'folks', 'fongul', 'foothills', 'footprints', 'foreplay', 'forgets', 'forwads', 'foxes', 'foxwoods', 'fractured', 'fragged', 'fraggle', 'frags', 'freaing', 'freaked', 'freakin', 'freaking', 'freaks', 'freeeezinggg', 'freeezinggggg', 'freesbee', 'freind', 'frenchkiss', 'friends', 'fries', 'frm', 'froogle', 'frst', 'frustrating', 'ft', 'fuck', 'fucker', 'fuckin', 'fucking', 'fucks', 'fuddahnut', 'fuked', 'fulfilling', 'futurama', 'fwd', 'gaaaaaaay', 'gagas', 'gags', 'gained', 'gals', 'gamefly', 'games', 'garciae', 'gaspppp', 'gawd', 'gayoholic', 'gays', 'geeks', 'gees', 'geesh', 'geeshh', 'geeshhh', 'geessh', 'geeze', 'gente', 'gentlemen', 'gets', 'gettign', 'gettin', 'gettysburg', 'gezzz', 'gf', 'gguyyyzzzz', 'ghet', 'giggles', 'girlfriend', 'girls', 'giva', 'gives', 'givs', 'glitches', 'gm', 'gn', 'gng', 'goddamn', 'goin', 'goneee', 'gonna', 'goodbye', 'goodie', 'goodnight', 'goodnite', 'google', 'gooo', 'goooooo', 'gorda', 'gotaa', 'goths', 'gotta', 'gottsa', 'grabs', 'gracemont', 'grea', 'greetings', 'gret', 'grettings', 'grilfriend', 'grins', 'gritt', 'grlz', 'groups', 'grrl', 'grrr', 'grrrrrring', 'grrrrrrrr', 'grrrrrrrrr', 'grrrrrrrrrrrrrrrrr', 'gs', 'gtg', 'guns', 'gurlie', 'gurls', 'gurrrrl', 'guts', 'guys', 'guyz', 'guyzz', 'haaa', 'hafta', 'haha', 'hahaaa', 'hahaaaa', 'hahah', 'hahaha', 'hahahaa', 'hahahah', 'hahahaha', 'hahahahaaa', 'hahahahahaha', 'hahahahahahaha', 'hahahahahahahahahahahahahahahaha', 'hahahhahah', 'hahhaa', 'hahhahahaha', 'hairs', 'halfa', 'hallo', 'handheld', 'handing', 'hands', 'handyman', 'hang', 'hangin', 'hangs', 'happend', 'happened', 'happens', 'happpy', 'harley', 'hartford', 'has', 'haters', 'hates', 'hav', 'havin', 'having', 'hawaii', 'hawt', 'hb', 'headach', 'headlights', 'heads', 'heard', 'hearin', 'hearthechatters', 'heee', 'heeee', 'heeeey', 'heeheeheeheeheehee', 'heh', 'heheh', 'hehehe', 'hehehee', 'hehehehe', 'hel', 'helloooo', 'hellos', 'helped', 'hendrix', 'heroes', 'hertory', 'hes', 'heya', 'heyheyhey', 'heys', 'heyy', 'heyyy', 'heyyyy', 'heyyyyy', 'heyyyyyy', 'heyyyyyyy', 'heyyyyyyyy', 'heyyyyyyyyy', 'heyyyyyyyyyy', 'heyyyyyyyyyyyyyy', 'hfglhs', 'hgey', 'hgfhgfjgf', 'hhaaaaatttee', 'hheeyy', 'hheeyyy', 'hheeyyyyyyyyyyyyyyyyyyyyyyyyyyyyyyyyyyyyyyyyyyyyyyy', 'hhehe', 'hiding', 'hih', 'hii', 'hiii', 'hiiii', 'hio', 'hiom', 'hissy', 'hits', 'hitting', 'hix', 'hiy', 'hiya', 'hiyas', 'hm', 'hmm', 'hmmm', 'hmmmm', 'hmmmmm', 'hmmmmmmm', 'hmmmmmmmm', 'hmmmmmmmmmm', 'hmph', 'hogs', 'hohohohhohhoo', 'hola', 'holdin', 'holds', 'holocaustyourmom', 'hom', 'homeade', 'homeboys', 'homes', 'homies', 'homophobic', 'hoo', 'hooo', 'hooooo', 'hopin', 'hoping', 'horace', 'horriable', 'horrified', 'hots', 'hott', 'hottie', 'hotties', 'hours', 'houses', 'hows', 'howz', 'hpa', 'hr', 'hrs', 'http', 'hubbys', 'hugggs', 'huggs', 'huggss', 'hugs', 'hugss', 'hugsss', 'hugsssss', 'hugsssssssss', 'hugzzzzzzz', 'humm', 'hummmm', 'humple', 'hunters', 'huskers', 'husteling', 'huuuuuuuuuuuuuuuuuuuuuuuuuuuuuuuuuuugz', 'hx', 'hyy', 'iamahotnip', 'iamahotniplickme', 'iamahotnipwithhotnippics', 'iamahotnipwithpics', 'icky', 'ico', 'idiots', 'idnt', 'ifr', 'ignored', 'ignoring', 'ihavehotnips', 'ii', 'il', 'illin', 'im', 'images', 'imhave', 'imma', 'immersed', 'impaired', 'impared', 'impressed', 'indiantown', 'infor', 'inhales', 'injureis', 'innit', 'innocense', 'insuklting', 'internet', 'intersting', 'invisiable', 'involves', 'irc', 'irl', 'isnt', 'issues', 'italians', 'italy', 'itches', 'items', 'itz', 'ive', 'iz', 'ja', 'jackie', 'jacking', 'jajajaaa', 'jammed', 'jammers', 'jammies', 'jayse', 'jerimiah', 'jerkettes', 'jerketts', 'jerks', 'jeter', 'jk', 'johnson', 'johny', 'joined', 'jokes', 'joking', 'jonesboro', 'jordison', 'joshy', 'jr', 'jrz', 'jto', 'jucilicious', 'judges', 'jujubees', 'jumpin', 'jumps', 'jus', 'jush', 'jw', 'kansas', 'kawing', 'kc', 'keeps', 'kellogs', 'kennedy', 'kev', 'kewl', 'keys', 'kickass', 'kicked', 'kicks', 'kid', 'kiddin', 'kidding', 'kidnaped', 'killed', 'killeded', 'kinda', 'kissed', 'kisses', 'kittie', 'kmph', 'knees', 'kneess', 'kneez', 'kness', 'knocked', 'knockin', 'knows', 'knuckles', 'knw', 'kold', 'kong', 'kookies', 'kool', 'kts', 'ky', 'lacking', 'ladis', 'ladz', 'laffin', 'laffs', 'laguna', 'lala', 'lambergini', 'lamborghini', 'lamborgini', 'lampert', 'lapd', 'laptop', 'lasts', 'laters', 'laterssss', 'latina', 'latins', 'laughed', 'laughin', 'laughs', 'lavendar', 'lawl', 'lb', 'lbs', 'ldskdlsf', 'leaders', 'leakin', 'legs', 'lesbo', 'lets', 'lez', 'liam', 'licks', 'lies', 'lights', 'liked', 'likes', 'lil', 'limits', 'listenin', 'listens', 'lists', 'litening', 'lives', 'livin', 'lix', 'lixxx', 'll', 'lllllllliiiiiiiiiikeee', 'llloooozzzzeeerrrrzzzzzzzzzzzzzzzzzzzzzzzzzzzzzzzzzzzzzzzzzzzzzzzzz', 'lmao', 'lmaoo', 'lmaooo', 'lmaoooo', 'lmaooooo', 'lmfao', 'loc', 'lol', 'lolol', 'lolololll', 'london', 'lonley', 'looked', 'lookin', 'looks', 'lool', 'losted', 'lotsa', 'louder', 'louisianna', 'louisville', 'lousiana', 'loved', 'loveing', 'lovelies', 'loveliest', 'lovers', 'loves', 'lovin', 'lpn', 'lthen', 'ltnc', 'ltns', 'ltnsea', 'ltr', 'lubbs', 'lucifuge', 'lurkin', 'lurks', 'luv', 'luverz', 'luvs', 'lyin', 'lysol', 'macho', 'magine', 'mahn', 'maidstone', 'mainland', 'makes', 'males', 'mama', 'mame', 'mami', 'manson', 'maps', 'marlaya', 'martini', 'martinis', 'massaged', 'masturbating', 'mauh', 'mcgraw', 'md', 'means', 'meds', 'meeeeeeeeeeeee', 'meep', 'meh', 'memories', 'mena', 'meredith', 'messages', 'messaging', 'messed', 'metallica', 'mexicans', 'meyooky', 'mhm', 'midgets', 'miiiiiiiiiiiiinnnnnnnnnnneeeeeeeeee', 'miiiiiinnnnnnnnnneeeeeeee', 'mikeeeeeeeeeeeeeeeeeeeeeeeeee', 'minigames', 'mins', 'minutes', 'misbeahve', 'misbehaving', 'mising', 'missed', 'misses', 'missin', 'mittens', 'mkay', 'mm', 'mmhmm', 'mmm', 'mmmkay', 'mmmm', 'mmmmk', 'mmmmm', 'mmmmmm', 'mmmmmmmmiiiiiiiiinnnnnnnnneeeeeeee', 'mmmmmmmmmm', 'mmmmmmmmmmmmm', 'mmmmmmmmmmmmmm', 'mmmomom', 'moanin', 'moans', 'moanz', 'mofo', 'mom', 'moms', 'monsters', 'monthes', 'months', 'moochhhhhhhhh', 'moonie', 'mooooooooooooooooooooooooooo', 'moped', 'mopeds', 'mornign', 'mornin', 'mothas', 'mothers', 'moths', 'moved', 'moves', 'movin', 'mowin', 'mris', 'ms', 'msg', 'msn', 'msners', 'mspace', 'msutah', 'muah', 'muahhh', 'muahhhhh', 'muahssssssssssssssss', 'muahsssssssssssssssssss', 'muahz', 'muahzzzz', 'muh', 'muhaha', 'multitasking', 'munches', 'muzak', 'mwahhs', 'mwahhss', 'mwahs', 'myspace', 'nad', 'nada', 'nadda', 'nads', 'nah', 'nails', 'nakey', 'nakie', 'named', 'names', 'naples', 'nashville', 'naughtier', 'nauty', 'nawp', 'nawwww', 'nbc', 'nc', 'nce', 'nd', 'nebraska', 'necromancers', 'needed', 'neked', 'nekkies', 'neone', 'nerd', 'netflix', 'nevah', 'nevermind', 'neverneverland', 'newp', 'neysa', 'nic', 'niceeee', 'niceeeee', 'nicer', 'nickelback', 'nickleback', 'nicks', 'nicname', 'nicnames', 'nite', 'niteeeeeeeeeeeeeeeeeee', 'niters', 'nj', 'nm', 'nodda', 'nods', 'noo', 'nooo', 'nooooo', 'noooooooooo', 'noooooooooooooo', 'nooooooooooooooo', 'normy', 'norny', 'nortenos', 'nostrils', 'notes', 'noth', 'nothin', 'noting', 'ntmn', 'nudes', 'nuff', 'numbers', 'nuttin', 'ny', 'nyc', 'nyone', 'nz', 'oates', 'oatmel', 'obbts', 'observed', 'oc', 'offa', 'offence', 'ogan', 'ohh', 'ohhh', 'ohhhh', 'ohhhhhh', 'ohhhhhhhhhhhhhhhh', 'ohwa', 'oi', 'okay', 'okey', 'okies', 'okikes', 'okkkkkk', 'ol', 'oldest', 'omg', 'omggg', 'omnious', 'ones', 'online', 'ono', 'ontario', 'ontrobution', 'onuimso', 'oo', 'ooeer', 'ooer', 'ooh', 'ooo', 'oooh', 'oooooo', 'ooooook', 'ooooooo', 'ooooooooooo', 'oooooooooooglyyyyyyyy', 'oooooooooooo', 'oooooooooooooonnnnnnnnnnnneeeeeeeeeeeeeeesssssssss', 'ooopppps', 'ooperative', 'oopps', 'ooppsss', 'oops', 'oot', 'op', 'oppertunity', 'opps', 'oppsss', 'opr', 'ops', 'orders', 'orgies', 'orta', 'otay', 'othah', 'others', 'othing', 'outa', 'outs', 'outta', 'overplaying', 'ovr', 'owuldnt', 'owww', 'oy', 'packs', 'pages', 'paid', 'paints', 'paitently', 'pandas', 'paradis', 'paragraphs', 'parents', 'pasa', 'passed', 'passes', 'pasties', 'paxil', 'paypal', 'pc', 'pdt', 'pedals', 'pedofile', 'peeks', 'peeps', 'peolpe', 'peoples', 'peppersteak', 'perked', 'permenant', 'perth', 'perv', 'perved', 'pervin', 'perving', 'pervs', 'petanmart', 'petunias', 'pffft', 'pfft', 'photshopped', 'phylosipher', 'picks', 'pics', 'pictures', 'pies', 'pigs', 'pills', 'pinches', 'pineapples', 'pissed', 'pisses', 'pissing', 'placce', 'planned', 'playas', 'played', 'playin', 'playing', 'plays', 'playstation', 'pleased', 'pleaseeeee', 'pleez', 'plenaty', 'plently', 'plows', 'plssss', 'plz', 'pm', 'pmers', 'pming', 'pms', 'pmsl', 'poeple', 'pokes', 'pokin', 'pokkies', 'polllution', 'poooland', 'poorrr', 'popped', 'porn', 'pos', 'posts', 'pounces', 'pounds', 'pours', 'pouts', 'powers', 'powter', 'pp', 'ppl', 'ppolitical', 'pppppppppppew', 'pr', 'prays', 'predicted', 'priorities', 'prisoners', 'prittier', 'privmsg', 'problemo', 'problems', 'profiles', 'profilrs', 'proked', 'prolly', 'prono', 'proocessing', 'proud', 'prrty', 'ps', 'psh', 'pssssh', 'pssst', 'puhleaze', 'pujols', 'pukes', 'pullin', 'pulling', 'pumpkins', 'pursued', 'purty', 'pushed', 'pushes', 'pussies', 'puter', 'puts', 'putting', 'puzzles', 'pvt', 'pweeze', 'pwns', 'px', 'qq', 'que', 'ques', 'questioned', 'questions', 'quistion', 'quizes', 'qwertyuiop', 'raaaaaaaaaaaaaaaaaaaaaaaaaaaaa', 'raarrrrrr', 'raed', 'rafters', 'rained', 'raining', 'rapest', 'rarly', 'rashes', 'rats', 'reached', 'reads', 'realise', 'realises', 'reallly', 'reasons', 'receprion', 'recieve', 'recomend', 'recovering', 'redneck', 'refrains', 'relaxes', 'remembah', 'remembers', 'reminded', 'removes', 'repeating', 'repeats', 'reschedual', 'respec', 'results', 'retahhhhded', 'retared', 'rethinks', 'rey', 'ri', 'ribs', 'ridem', 'ridin', 'rights', 'riiiight', 'riiiiight', 'ringtones', 'roadrunner', 'roads', 'robbie', 'rocks', 'rofl', 'roleplay', 'rolls', 'roomate', 'roomies', 'rooms', 'ros', 'roses', 'rotflmao', 'rothlisburger', 'rubs', 'rules', 'rumour', 'rumours', 'runs', 'russion', 'rutger', 'ryaon', 'sales', 'salisbury', 'salsa', 'salut', 'sammich', 'samn', 'satisfie', 'sayn', 'says', 'scared', 'scares', 'schlep', 'schmoopies', 'scopes', 'scorpions', 'scrambled', 'screach', 'screamo', 'screams', 'scrolls', 'scuba', 'scuk', 'scusezzy', 'sdlfkjsj', 'seagulls', 'seconds', 'seee', 'seeee', 'seems', 'seminilla', 'senor', 'sentences', 'serg', 'serties', 'sesky', 'sets', 'settles', 'seuss', 'sevendust', 'sexcite', 'sexi', 'sexiest', 'sexist', 'sexs', 'sf', 'shades', 'shakes', 'shakin', 'shaneeeeeeeee', 'sharing', 'shaun', 'sheesh', 'sheesin', 'shes', 'shhhh', 'shinedown', 'ships', 'shit', 'shivers', 'shocked', 'shocks', 'shoes', 'shoots', 'shoppin', 'shorty', 'shots', 'shoulders', 'shouldve', 'showered', 'shows', 'shpwing', 'shrugs', 'shup', 'shups', 'sicily', 'sighs', 'signed', 'sigur', 'silverstein', 'sincy', 'singleeeeeeee', 'sings', 'sips', 'sisters', 'sites', 'sits', 'skateboard', 'skydiving', 'slaps', 'sldfjlsdf', 'sleepin', 'sleepover', 'sleeps', 'slkfjsldkfjs', 'smacked', 'smacks', 'smallfry', 'smarter', 'smax', 'smells', 'smewchies', 'smiles', 'smirks', 'smirkz', 'smokes', 'smoochies', 'sneezed', 'snickers', 'snores', 'snorts', 'snuggles', 'soakin', 'socks', 'software', 'soilwork', 'solved', 'songs', 'soo', 'soojn', 'sooners', 'sooo', 'soory', 'sores', 'sorta', 'sounded', 'sounds', 'sowwy', 'sox', 'soybeans', 'sp', 'spaces', 'spain', 'spanked', 'specalily', 'specials', 'spelled', 'spins', 'spirits', 'splains', 'splelnig', 'splenda', 'spose', 'sposs', 'sprays', 'sry', 'ssid', 'ssri', 'stairs', 'standin', 'stans', 'stares', 'started', 'starts', 'stationed', 'stinky', 'stirred', 'stores', 'stories', 'straightens', 'strangers', 'streaks', 'streched', 'stressed', 'stretches', 'strickly', 'stron', 'subscriptions', 'subsitute', 'sucka', 'sucked', 'sucks', 'suffers', 'suggested', 'suggestions', 'suked', 'sullivan', 'sumfin', 'sumpin', 'sunglasses', 'sunnn', 'superhiway', 'suprise', 'suprised', 'suree', 'surfing', 'surprised', 'sux', 'sw', 'swackhammer', 'swats', 'sweats', 'sweeeeeeeeet', 'sweetshybbw', 'syck', 'syllables', 'sympathies', 'syndorme', 'tabbed', 'tackles', 'tacoma', 'tah', 'takers', 'takes', 'talkcity', 'talked', 'talkiing', 'talkin', 'talks', 'tapes', 'tastes', 'tatatatnanaantatat', 'tazzmaniane', 'tc', 'tdr', 'teachers', 'tears', 'techniques', 'teehee', 'teenagers', 'teh', 'tellin', 'telllin', 'temples', 'temptations', 'tenn', 'tennesee', 'tennessee', 'tennies', 'teo', 'tere', 'thah', 'thang', 'thanksss', 'thanx', 'theere', 'themself', 'themselvs', 'ther', 'things', 'thinkin', 'thinks', 'thje', 'thnx', 'thot', 'thoughts', 'thows', 'thristy', 'throught', 'throws', 'thru', 'thugs', 'thx', 'tickets', 'tigers', 'tighty', 'tips', 'tisk', 'tits', 'tjhe', 'tks', 'tlak', 'toenails', 'toes', 'tok', 'tommorrow', 'tonawanda', 'tooo', 'tooooooooooo', 'tootsie', 'topics', 'tosses', 'totaly', 'touches', 'tounge', 'towels', 'trashed', 'trials', 'tries', 'trippin', 'trippy', 'trolls', 'tryer', 'tryin', 'tryina', 'tthe', 'tv', 'twizted', 'twoel', 'tx', 'ty', 'typed', 'typin', 'typing', 'typr', 'tyrese', 'tyvm', 'ufc', 'uffff', 'ughhh', 'uh', 'uhh', 'uhhh', 'uk', 'umm', 'ummm', 'unisom', 'updated', 'url', 'urls', 'urself', 'usa', 'uses', 'using', 'ussy', 'uuuhhh', 'uyes', 'va', 'vanished', 'vbox', 'veg', 'vetrabrate', 'victims', 'victors', 'violators', 'virius', 'vm', 'voices', 'vroooom', 'vuela', 'vvil', 'waaa', 'waddles', 'waddup', 'wahoooooooo', 'wahoooooooski', 'waht', 'waitin', 'waits', 'walderslade', 'walked', 'walks', 'walmart', 'wana', 'wanan', 'wanders', 'wanna', 'wansta', 'wanted', 'wantin', 'wants', 'warned', 'warnings', 'warts', 'wasup', 'watches', 'watchin', 'waters', 'wats', 'waves', 'waz', 'wazz', 'wb', 'wc', 'weapons', 'wearin', 'wears', 'webcam', 'webcams', 'weeeeeeeee', 'weeeeeeeeeeeeeeee', 'weeeeeeeeeeeeeeeeee', 'weeeeeeeeeeeeeeeeeeeeeeeeed', 'weeks', 'weenis', 'wel', 'welcomes', 'wellbutrin', 'welll', 'welome', 'werd', 'whaaa', 'whaaaaats', 'whatca', 'whatcha', 'wheeeeeeeeeeeeeeeeeeeeeeeeeeeeeeeeee', 'wheels', 'wher', 'whered', 'wheres', 'whewwwwww', 'whhhooooo', 'whisling', 'whispers', 'whispre', 'whistles', 'whistlin', 'whitesnake', 'whiteys', 'whitte', 'whjat', 'whoaaaaaaaaaaaa', 'whooo', 'whoopz', 'whos', 'whou', 'whupped', 'whuuped', 'whys', 'wif', 'wigglez', 'wildcard', 'willams', 'willis', 'wiltou', 'wimmins', 'winds', 'wings', 'winks', 'wins', 'wisconsin', 'wishes', 'withdrawl', 'withing', 'woah', 'women', 'wondered', 'wonderin', 'wonders', 'woods', 'wooo', 'woooohoooo', 'wooooohoooo', 'woooooooooaaaahhhhhhhhhhhh', 'wooooooooooooohoooooooooooooooo', 'woot', 'words', 'worl', 'worries', 'wothough', 'wowsa', 'wrecked', 'wrek', 'wtf', 'wth', 'wubs', 'wussups', 'wuts', 'wuuppin', 'wv', 'wyte', 'wz', 'xbox', 'xcitable', 'xd', 'xxxed', 'xxxxxx', 'xxxxxxxxxx', 'yada', 'yall', 'yards', 'yarrrr', 'yawns', 'yawnssss', 'yay', 'yayayayayyy', 'years', 'yeas', 'yeee', 'yeh', 'yello', 'yepper', 'yeppers', 'yerself', 'yesh', 'yess', 'yessum', 'yikes', 'yikesssss', 'yoder', 'yoko', 'yoll', 'yoooou', 'yooou', 'youer', 'youre', 'yout', 'youuu', 'youuuu', 'yrs', 'ysssssssss', 'yu', 'yum', 'yummylicious', 'yup', 'yuuuuuuuuuuuummmmmmmmmmmm', 'yvw', 'yw', 'zebrahead', 'zoloft', 'zyban', 'zzzzzzzing', 'zzzzzzzz']\n"
     ]
    }
   ],
   "source": [
    "def unusual_words(text):\n",
    "    text_vocab = set(w.lower() for w in text if w.isalpha())\n",
    "    english_vocab = set(w.lower() for w in nltk.corpus.words.words())\n",
    "    unusual = text_vocab - english_vocab\n",
    "    return sorted(unusual)\n",
    "\n",
    "\n",
    "print(unusual_words(nltk.corpus.gutenberg.words('austen-sense.txt')))\n",
    "print()\n",
    "print(unusual_words(nltk.corpus.nps_chat.words()))"
   ]
  },
  {
   "cell_type": "code",
   "execution_count": 49,
   "metadata": {},
   "outputs": [
    {
     "data": {
      "text/plain": [
       "0.735240435097661"
      ]
     },
     "execution_count": 49,
     "metadata": {},
     "output_type": "execute_result"
    }
   ],
   "source": [
    "from nltk.corpus import stopwords\n",
    "# stopwords.words('english')\n",
    "\n",
    "\n",
    "def content_fraction(text):\n",
    "    stopwords = nltk.corpus.stopwords.words('english')\n",
    "    content = [w for w in text if w.lower() not in stopwords]\n",
    "    return len(content) / len(text)\n",
    "\n",
    "\n",
    "content_fraction(nltk.corpus.reuters.words())"
   ]
  },
  {
   "cell_type": "code",
   "execution_count": null,
   "metadata": {},
   "outputs": [],
   "source": []
  }
 ],
 "metadata": {
  "kernelspec": {
   "display_name": "Python 3",
   "language": "python",
   "name": "python3"
  },
  "language_info": {
   "codemirror_mode": {
    "name": "ipython",
    "version": 3
   },
   "file_extension": ".py",
   "mimetype": "text/x-python",
   "name": "python",
   "nbconvert_exporter": "python",
   "pygments_lexer": "ipython3",
   "version": "3.7.3"
  }
 },
 "nbformat": 4,
 "nbformat_minor": 2
}
